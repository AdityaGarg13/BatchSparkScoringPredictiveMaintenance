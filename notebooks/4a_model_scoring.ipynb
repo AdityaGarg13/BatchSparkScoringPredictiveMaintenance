{
 "cells": [
  {
   "cell_type": "markdown",
   "metadata": {},
   "source": [
    "# Step 4: Model Scoring\n\nUsing the labeled feature data set constructed in the `Code/2_feature_engineering.ipynb` Jupyter notebook, this notebook loads the data from the Azure Blob container and splits it into a training and test data set. We then build a machine learning model (a decision tree classifier or a random forest classifier) to predict when different components within our machine population will fail. We store the better performing model for deployment in an Azure web service in the next. We will prepare and build the web service in the `Code/4_operationalization.ipynb` Jupyter notebook.\n\n**Note:** This notebook will take about 2-4 minutes to execute all cells, depending on the compute configuration you have setup."
   ]
  },
  {
   "cell_type": "code",
   "execution_count": 2,
   "metadata": {},
   "outputs": [
    {
     "data": {
      "text/html": [
       "<style scoped>\n  .ansiout {\n    display: block;\n    unicode-bidi: embed;\n    white-space: pre-wrap;\n    word-wrap: break-word;\n    word-break: break-all;\n    font-family: \"Source Code Pro\", \"Menlo\", monospace;;\n    font-size: 13px;\n    color: #555;\n    margin-left: 4px;\n    line-height: 19px;\n  }\n</style>\n<div class=\"ansiout\"></div>"
      ]
     },
     "metadata": {},
     "output_type": "execute_result"
    }
   ],
   "source": [
    "# import the libraries\n",
    "import time\n",
    "\n",
    "# For some data handling\n",
    "import numpy as np\n",
    "from pyspark.ml import PipelineModel\n",
    "# for creating pipelines and model\n",
    "from pyspark.ml.feature import StringIndexer, VectorAssembler, VectorIndexer\n",
    "\n",
    "# Time the notebook execution. \n",
    "# This will only make sense if you \"Run all cells\"\n",
    "tic = time.time()\n",
    "\n",
    "# We will store and read each of these data sets in blob storage in an \n",
    "# Azure Storage Container on your Azure subscription.\n",
    "# See https://github.com/Azure/ViennaDocs/blob/master/Documentation/UsingBlobForStorage.md\n",
    "# for details.\n",
    "\n",
    "# This is the final feature data file.\n",
    "TRAINING_TABLE = 'training_data'\n",
    "\n",
    "# The scoring uses the same feature engineering script used to train the model\n",
    "SCORING_TABLE = 'scoring_input'\n",
    "RESULTS_TABLE = 'results_output'\n",
    "START_DATE = \"2015-12-30\"\n",
    "END_DATE = \"2016-04-30\"\n",
    "\n",
    "model_type = 'RandomForest' # Use 'DecisionTree' or 'RandomForest'"
   ]
  },
  {
   "cell_type": "code",
   "execution_count": 3,
   "metadata": {},
   "outputs": [
    {
     "data": {
      "text/html": [
       "<style scoped>\n  .ansiout {\n    display: block;\n    unicode-bidi: embed;\n    white-space: pre-wrap;\n    word-wrap: break-word;\n    word-break: break-all;\n    font-family: \"Source Code Pro\", \"Menlo\", monospace;;\n    font-size: 13px;\n    color: #555;\n    margin-left: 4px;\n    line-height: 19px;\n  }\n</style>\n<div class=\"ansiout\"></div>"
      ]
     },
     "metadata": {},
     "output_type": "execute_result"
    }
   ],
   "source": [
    "dbutils.widgets.removeAll()\n",
    "dbutils.widgets.text(\"SCORING_DATA\", SCORING_TABLE)\n",
    "dbutils.widgets.text(\"RESULTS_DATA\", RESULTS_TABLE)\n",
    "\n",
    "dbutils.widgets.text(\"Start_Date\", START_DATE)\n",
    "\n",
    "dbutils.widgets.text(\"zEnd_Date\", END_DATE)\n",
    "\n",
    "dbutils.widgets.text(\"MODEL_TYPE\", model_type)"
   ]
  },
  {
   "cell_type": "markdown",
   "metadata": {},
   "source": [
    "We need to run the feature engineering on the data we're interested in scoring. This should be the same feature engineering steps we used to train the model. If you do this in the data base, this next cell could be a simple select statement. For this example, we used a parameterized notebook to do feature engineering, so we can just rerun the notebook with parameters to operate on the raw data tables."
   ]
  },
  {
   "cell_type": "code",
   "execution_count": 5,
   "metadata": {},
   "outputs": [
    {
     "data": {
      "text/html": [
       "<style scoped>\n  .ansiout {\n    display: block;\n    unicode-bidi: embed;\n    white-space: pre-wrap;\n    word-wrap: break-word;\n    word-break: break-all;\n    font-family: \"Source Code Pro\", \"Menlo\", monospace;;\n    font-size: 13px;\n    color: #555;\n    margin-left: 4px;\n    line-height: 19px;\n  }\n</style>\n<div class=\"ansiout\"></div>"
      ]
     },
     "metadata": {},
     "output_type": "execute_result"
    }
   ],
   "source": [
    "# This cell must complete in less than 10minutes, or databricks will kill it. So we set the time out to 9.5min = 9.5*60 sec = 570 seconds\n",
    "dbutils.notebook.run(\"2_feature_engineering_clean\", 570, \n",
    "                     {\"FEATURES_TABLE\": dbutils.widgets.get(\"SCORING_DATA\"), \n",
    "                      \"START_DATE\": dbutils.widgets.get(\"Start_Date\"),  \n",
    "                      \"zEND_DATE\": dbutils.widgets.get(\"zEnd_Date\")})"
   ]
  },
  {
   "cell_type": "markdown",
   "metadata": {},
   "source": [
    "Load the data and dump a short summary of the resulting DataFrame."
   ]
  },
  {
   "cell_type": "code",
   "execution_count": 7,
   "metadata": {},
   "outputs": [
    {
     "data": {
      "text/html": [
       "<style scoped>\n  .ansiout {\n    display: block;\n    unicode-bidi: embed;\n    white-space: pre-wrap;\n    word-wrap: break-word;\n    word-break: break-all;\n    font-family: \"Source Code Pro\", \"Menlo\", monospace;;\n    font-size: 13px;\n    color: #555;\n    margin-left: 4px;\n    line-height: 19px;\n  }\n</style>\n<div class=\"ansiout\">604307\n604307\n<span class=\"ansired\">Out[</span><span class=\"ansired\">10</span><span class=\"ansired\">]: </span>\n    machineID        dt_truncated  label_e  \\\n0          45 2015-10-30 00:00:00      0.0   \n1          45 2015-10-29 12:00:00      0.0   \n2          45 2015-10-29 00:00:00      0.0   \n3          45 2015-10-28 12:00:00      0.0   \n4          45 2015-10-28 00:00:00      0.0   \n5          45 2015-10-27 12:00:00      0.0   \n6          45 2015-10-27 00:00:00      0.0   \n7          45 2015-10-26 12:00:00      0.0   \n8          45 2015-10-26 00:00:00      0.0   \n9          45 2015-10-25 12:00:00      0.0   \n10         45 2015-10-25 00:00:00      0.0   \n11         45 2015-10-24 12:00:00      0.0   \n12         45 2015-10-24 00:00:00      0.0   \n13         45 2015-10-23 12:00:00      0.0   \n14         45 2015-10-23 00:00:00      0.0   \n15         45 2015-10-22 12:00:00      0.0   \n16         45 2015-10-22 00:00:00      0.0   \n17         45 2015-10-21 12:00:00      0.0   \n18         45 2015-10-21 00:00:00      0.0   \n19         45 2015-10-20 12:00:00      0.0   \n\n                                             features  \n0   [174.611846749, 450.720590332, 102.291328229, ...  \n1   [166.425098613, 441.652415151, 99.4667247317, ...  \n2   [169.575065884, 435.441997547, 99.4520555534, ...  \n3   [169.190065902, 448.272389688, 101.831760593, ...  \n4   [172.485176576, 466.13110433, 103.078661562, 4...  \n5   [167.217351007, 442.999995184, 97.828751894, 3...  \n6   [167.309299019, 432.430836621, 102.413576528, ...  \n7   [172.232218402, 445.012891038, 96.9212277197, ...  \n8   [168.922430841, 456.224824263, 99.3731139475, ...  \n9   [173.080954589, 455.142128265, 99.3718516039, ...  \n10  [174.392922205, 453.678194571, 110.742150172, ...  \n11  [171.91719962, 445.005475713, 125.77505806, 37...  \n12  [172.756830403, 465.680300825, 125.441526826, ...  \n13  [173.233202023, 465.146658579, 127.769112103, ...  \n14  [172.483121723, 457.50323549, 116.16554376, 41...  \n15  [168.585265826, 468.855202226, 101.917386258, ...  \n16  [173.495632292, 441.241610117, 101.444815165, ...  \n17  [173.088137822, 447.430813852, 102.553795567, ...  \n18  [169.169008339, 442.024590638, 105.343394188, ...  \n19  [170.672312138, 456.445644825, 100.264320678, ...  \n</div>"
      ]
     },
     "metadata": {},
     "output_type": "execute_result"
    }
   ],
   "source": [
    "sqlContext.refreshTable(dbutils.widgets.get(\"SCORING_DATA\")) \n",
    "\n",
    "score_data = spark.sql(\"SELECT * FROM \" + dbutils.widgets.get(\"SCORING_DATA\"))\n",
    "\n",
    "print(score_data.count())\n",
    "\n",
    "# We'll use the known label, and key variables.\n",
    "label_var = ['label_e']\n",
    "key_cols =['machineID','dt_truncated']\n",
    "\n",
    "# Then get the remaing feature names from the data\n",
    "input_features = score_data.columns\n",
    "\n",
    "# We'll use the known label, key variables and \n",
    "# a few extra columns we won't need.\n",
    "remove_names = label_var + key_cols + ['failure','model_encoded','model' ]\n",
    "\n",
    "# Remove the extra names if that are in the input_features list\n",
    "input_features = [x for x in input_features if x not in set(remove_names)]\n",
    "\n",
    "input_features\n",
    "# assemble features\n",
    "va = VectorAssembler(inputCols=(input_features), outputCol='features')\n",
    "\n",
    "# assemble features\n",
    "score_data = va.transform(score_data).select('machineID','dt_truncated','label_e','features')\n",
    "\n",
    "# set maxCategories so features with > 10 distinct values are treated as continuous.\n",
    "featureIndexer = VectorIndexer(inputCol=\"features\", \n",
    "                               outputCol=\"indexedFeatures\", \n",
    "                               maxCategories=10).fit(score_data)\n",
    "\n",
    "# fit on whole dataset to include all labels in index\n",
    "labelIndexer = StringIndexer(inputCol=\"label_e\", outputCol=\"indexedLabel\").fit(score_data)\n",
    "\n",
    "print(score_data.count())\n",
    "score_data.toPandas().head(20)"
   ]
  },
  {
   "cell_type": "code",
   "execution_count": 8,
   "metadata": {},
   "outputs": [
    {
     "data": {
      "text/html": [
       "<style scoped>\n  .ansiout {\n    display: block;\n    unicode-bidi: embed;\n    white-space: pre-wrap;\n    word-wrap: break-word;\n    word-break: break-all;\n    font-family: \"Source Code Pro\", \"Menlo\", monospace;;\n    font-size: 13px;\n    color: #555;\n    margin-left: 4px;\n    line-height: 19px;\n  }\n</style>\n<div class=\"ansiout\"><span class=\"ansired\">Out[</span><span class=\"ansired\">11</span><span class=\"ansired\">]: </span>pyspark.sql.dataframe.DataFrame\n</div>"
      ]
     },
     "metadata": {},
     "output_type": "execute_result"
    }
   ],
   "source": [
    "type(score_data)"
   ]
  },
  {
   "cell_type": "markdown",
   "metadata": {},
   "source": [
    "# Prepare the Training/Testing data"
   ]
  },
  {
   "cell_type": "markdown",
   "metadata": {},
   "source": [
    "A fundamental practice in machine learning is to calibrate and test your model parameters on data that has not been used to train the model. Evaluation of the model requires splitting the available data into a training portion, a calibration portion and an evaluation portion. Typically, 80% of data is used to train the model and 10% each to calibrate any parameter selection and evaluate your model.\n\nIn general random splitting can be used, but since time series data have an inherent correlation between observations. For predictive maintenance problems, a time-dependent spliting strategy is often a better approach to estimate performance. For a time-dependent split, a single point in time is chosen, the model is trained on examples up to that point in time, and validated on the examples after that point. This simulates training on current data and score data collected in the future data after the splitting point is not known. However, care must be taken on labels near the split point. In this case, feature records within 7 days of the split point can not be labeled as a failure, since that is unobserved data. \n\nIn the following code blocks, we split the data at a single point to train and evaluate this model."
   ]
  },
  {
   "cell_type": "markdown",
   "metadata": {},
   "source": [
    "Spark models require a vectorized data frame. We transform the dataset here and then split the data into a training and test set. We use this split data to train the model on 9 months of data (training data), and evaluate on the remaining 3 months (test data) going forward."
   ]
  },
  {
   "cell_type": "markdown",
   "metadata": {},
   "source": [
    "# Classification models\n\nA particualar troubling behavior in predictive maintenance is machine failures are usually rare occurrences compared to normal operation. This is fortunate for the business as maintenance and saftey issues are few, but causes an imbalance in the label distribution. This imbalance leads to poor performance as algorithms tend to classify majority class examples at the expense of minority class, since the total misclassification error is much improved when majority class is labeled correctly. This causes low recall or precision rates, although accuracy can be high. It becomes a larger problem when the cost of false alarms is very high. To help with this problem, sampling techniques such as oversampling of the minority examples can be used. These methods are not covered in this notebook. Because of this, it is also important to look at evaluation metrics other than accuracy alone.\n\nWe will build and compare two different classification model approaches:\n\n - **Decision Tree Classifier**: Decision trees and their ensembles are popular methods for the machine learning tasks of classification and regression. Decision trees are widely used since they are easy to interpret, handle categorical features, extend to the multiclass classification setting, do not require feature scaling, and are able to capture non-linearities and feature interactions.\n\n - **Random Forest Classifier**: A random forest is an ensemble of decision trees. Random forests combine many decision trees in order to reduce the risk of overfitting. Tree ensemble algorithms such as random forests and boosting are among the top performers for classification and regression tasks.\n\nWe will to compare these models in the AML Workbench _runs_ screen. The next code block creates the model. You can choose between a _DecisionTree_ or _RandomForest_ by setting the 'model_type' variable. We have also included a series of model hyperparameters to guide your exploration of the model space."
   ]
  },
  {
   "cell_type": "markdown",
   "metadata": {},
   "source": [
    "To evaluate this model, we predict the component failures over the test data set. Since the test set has been created from data the model has not been seen before, it simulates future data. The evaluation then can be generalize to how the model could perform when operationalized and used to score the data in real time."
   ]
  },
  {
   "cell_type": "code",
   "execution_count": 14,
   "metadata": {},
   "outputs": [
    {
     "data": {
      "text/html": [
       "<style scoped>\n  .ansiout {\n    display: block;\n    unicode-bidi: embed;\n    white-space: pre-wrap;\n    word-wrap: break-word;\n    word-break: break-all;\n    font-family: \"Source Code Pro\", \"Menlo\", monospace;;\n    font-size: 13px;\n    color: #555;\n    margin-left: 4px;\n    line-height: 19px;\n  }\n</style>\n<div class=\"ansiout\">Model loaded\n<span class=\"ansired\">Out[</span><span class=\"ansired\">12</span><span class=\"ansired\">]: </span>PipelineModel_44a09f3479669abb61a4\n</div>"
      ]
     },
     "metadata": {},
     "output_type": "execute_result"
    }
   ],
   "source": [
    "model_pipeline = PipelineModel.load(\"dbfs:/storage/models/\" + dbutils.widgets.get(\"MODEL_TYPE\") + \".pqt\")\n",
    "\n",
    "print(\"Model loaded\")\n",
    "model_pipeline"
   ]
  },
  {
   "cell_type": "code",
   "execution_count": 15,
   "metadata": {},
   "outputs": [
    {
     "data": {
      "text/html": [
       "<style scoped>\n  .ansiout {\n    display: block;\n    unicode-bidi: embed;\n    white-space: pre-wrap;\n    word-wrap: break-word;\n    word-break: break-all;\n    font-family: \"Source Code Pro\", \"Menlo\", monospace;;\n    font-size: 13px;\n    color: #555;\n    margin-left: 4px;\n    line-height: 19px;\n  }\n</style>\n<div class=\"ansiout\"><span class=\"ansired\">Out[</span><span class=\"ansired\">13</span><span class=\"ansired\">]: </span>\n  indexedLabel_prediction     0.0   1.0   2.0   3.0   4.0\n0                     0.0  562620     4    17    53     5\n1                     1.0   11211  4249     0     4     2\n2                     2.0    8186     0  2804     1     0\n3                     3.0    5005     0     1  3556    46\n4                     4.0    4635    89     1    14  1804\n</div>"
      ]
     },
     "metadata": {},
     "output_type": "execute_result"
    }
   ],
   "source": [
    "\n",
    "# make predictions. The Pipeline does all the same operations on the test data\n",
    "predictions = model_pipeline.transform(score_data)\n",
    "\n",
    "# Create the confusion matrix for the multiclass prediction results\n",
    "# This result assumes a decision boundary of p = 0.5\n",
    "conf_table = predictions.stat.crosstab('indexedLabel', 'prediction')\n",
    "confuse = conf_table.toPandas()\n",
    "confuse.head()"
   ]
  },
  {
   "cell_type": "markdown",
   "metadata": {},
   "source": [
    "The confusion matrix lists each true component failure in rows and the predicted value in columns. Labels numbered 0.0 corresponds to no component failures. Labels numbered 1.0 through 4.0 correspond to failures in one of the four components in the machine. As an example, the third number in the top row indicates how many days we predicted component 2 would fail, when no components actually did fail. The second number in the second row, indicates how many days we correctly predicted a component 1 failure within the next 7 days.\n\nWe read the confusion matrix numbers along the diagonal as correctly classifying the component failures. Numbers above the diagonal indicate the model incorrectly predicting a failure when non occured, and those below indicate incorrectly predicting a non-failure for the row indicated component failure.\n\nWhen evaluating classification models, it is convenient to reduce the results in the confusion matrix into a single performance statistic. However, depending on the problem space, it is impossible to always use the same statistic in this evaluation. Below, we calculate four such statistics.\n\n- **Accuracy**: reports how often we correctly predicted the labeled data. Unfortunatly, when there is a class imbalance (a large number of one of the labels relative to others), this measure is biased towards the largest class. In this case non-failure days.\n\nBecause of the class imbalance inherint in predictive maintenance problems, it is better to look at the remaining statistics instead. Here positive predictions indicate a failure.\n\n- **Precision**: Precision is a measure of how well the model classifies the truely positive samples. Precision depends on falsely classifying negative days as positive.\n\n- **Recall**: Recall is a measure of how well the model can find the positive samples. Recall depends on falsely classifying positive days as negative.\n\n- **F1**: F1 considers both the precision and the recall. F1 score is the harmonic average of precision and recall. An F1 score reaches its best value at 1 (perfect precision and recall) and worst at 0.\n\nThese metrics make the most sense for binary classifiers, though they are still useful for comparision in our multiclass setting. Below we calculate these evaluation statistics for the selected classifier, and post them back to the AML workbench run time page for tracking between experiments."
   ]
  },
  {
   "cell_type": "code",
   "execution_count": 17,
   "metadata": {},
   "outputs": [
    {
     "data": {
      "text/html": [
       "<style scoped>\n  .ansiout {\n    display: block;\n    unicode-bidi: embed;\n    white-space: pre-wrap;\n    word-wrap: break-word;\n    word-break: break-all;\n    font-family: \"Source Code Pro\", \"Menlo\", monospace;;\n    font-size: 13px;\n    color: #555;\n    margin-left: 4px;\n    line-height: 19px;\n  }\n</style>\n<div class=\"ansiout\">Accuracy = 0.951558\nPrecision = 0.981265\nRecall = 0.299469\nF1 = 0.458891\n\n</div>"
      ]
     },
     "metadata": {},
     "output_type": "execute_result"
    }
   ],
   "source": [
    "# select (prediction, true label) and compute test error\n",
    "# select (prediction, true label) and compute test error\n",
    "# True positives - diagonal failure terms \n",
    "tp = confuse['1.0'][1]+confuse['2.0'][2]+confuse['3.0'][3]+confuse['4.0'][4]\n",
    "\n",
    "# False positves - All failure terms - True positives\n",
    "fp = np.sum(np.sum(confuse[['1.0', '2.0','3.0','4.0']])) - tp\n",
    "\n",
    "# True negatives \n",
    "tn = confuse['0.0'][0]\n",
    "\n",
    "# False negatives total of non-failure column - TN\n",
    "fn = np.sum(np.sum(confuse[['0.0']])) - tn\n",
    "\n",
    "# Accuracy is diagonal/total \n",
    "acc_n = tn + tp\n",
    "acc_d = np.sum(np.sum(confuse[['0.0','1.0', '2.0','3.0','4.0']]))\n",
    "acc = acc_n/acc_d\n",
    "\n",
    "# Calculate precision and recall.\n",
    "prec = tp/(tp+fp)\n",
    "rec = tp/(tp+fn)\n",
    "\n",
    "# Print the evaluation metrics to the notebook\n",
    "print(\"Accuracy = %g\" % acc)\n",
    "print(\"Precision = %g\" % prec)\n",
    "print(\"Recall = %g\" % rec )\n",
    "print(\"F1 = %g\" % (2.0 * prec * rec/(prec + rec)))\n",
    "print(\"\")"
   ]
  },
  {
   "cell_type": "markdown",
   "metadata": {},
   "source": [
    "Remember that this is a simulated data set. We would expect a model built on real world data to behave very differently. The accuracy may still be close to one, but the precision and recall numbers would be much lower."
   ]
  },
  {
   "cell_type": "code",
   "execution_count": 19,
   "metadata": {},
   "outputs": [
    {
     "data": {
      "text/html": [
       "<style scoped>\n  .ansiout {\n    display: block;\n    unicode-bidi: embed;\n    white-space: pre-wrap;\n    word-wrap: break-word;\n    word-break: break-all;\n    font-family: \"Source Code Pro\", \"Menlo\", monospace;;\n    font-size: 13px;\n    color: #555;\n    margin-left: 4px;\n    line-height: 19px;\n  }\n</style>\n<div class=\"ansiout\"><span class=\"ansired\">Out[</span><span class=\"ansired\">15</span><span class=\"ansired\">]: </span>\n    machineID        dt_truncated  label_e  \\\n0          45 2015-10-30 00:00:00      0.0   \n1          45 2015-10-29 12:00:00      0.0   \n2          45 2015-10-29 00:00:00      0.0   \n3          45 2015-10-28 12:00:00      0.0   \n4          45 2015-10-28 00:00:00      0.0   \n5          45 2015-10-27 12:00:00      0.0   \n6          45 2015-10-27 00:00:00      0.0   \n7          45 2015-10-26 12:00:00      0.0   \n8          45 2015-10-26 00:00:00      0.0   \n9          45 2015-10-25 12:00:00      0.0   \n10         45 2015-10-25 00:00:00      0.0   \n11         45 2015-10-24 12:00:00      0.0   \n12         45 2015-10-24 00:00:00      0.0   \n13         45 2015-10-23 12:00:00      0.0   \n14         45 2015-10-23 00:00:00      0.0   \n15         45 2015-10-22 12:00:00      0.0   \n16         45 2015-10-22 00:00:00      0.0   \n17         45 2015-10-21 12:00:00      0.0   \n18         45 2015-10-21 00:00:00      0.0   \n19         45 2015-10-20 12:00:00      0.0   \n\n                                             features  indexedLabel  \\\n0   [174.611846749, 450.720590332, 102.291328229, ...           0.0   \n1   [166.425098613, 441.652415151, 99.4667247317, ...           0.0   \n2   [169.575065884, 435.441997547, 99.4520555534, ...           0.0   \n3   [169.190065902, 448.272389688, 101.831760593, ...           0.0   \n4   [172.485176576, 466.13110433, 103.078661562, 4...           0.0   \n5   [167.217351007, 442.999995184, 97.828751894, 3...           0.0   \n6   [167.309299019, 432.430836621, 102.413576528, ...           0.0   \n7   [172.232218402, 445.012891038, 96.9212277197, ...           0.0   \n8   [168.922430841, 456.224824263, 99.3731139475, ...           0.0   \n9   [173.080954589, 455.142128265, 99.3718516039, ...           0.0   \n10  [174.392922205, 453.678194571, 110.742150172, ...           0.0   \n11  [171.91719962, 445.005475713, 125.77505806, 37...           0.0   \n12  [172.756830403, 465.680300825, 125.441526826, ...           0.0   \n13  [173.233202023, 465.146658579, 127.769112103, ...           0.0   \n14  [172.483121723, 457.50323549, 116.16554376, 41...           0.0   \n15  [168.585265826, 468.855202226, 101.917386258, ...           0.0   \n16  [173.495632292, 441.241610117, 101.444815165, ...           0.0   \n17  [173.088137822, 447.430813852, 102.553795567, ...           0.0   \n18  [169.169008339, 442.024590638, 105.343394188, ...           0.0   \n19  [170.672312138, 456.445644825, 100.264320678, ...           0.0   \n\n                                      indexedFeatures  \\\n0   [174.611846749, 450.720590332, 102.291328229, ...   \n1   [166.425098613, 441.652415151, 99.4667247317, ...   \n2   [169.575065884, 435.441997547, 99.4520555534, ...   \n3   [169.190065902, 448.272389688, 101.831760593, ...   \n4   [172.485176576, 466.13110433, 103.078661562, 4...   \n5   [167.217351007, 442.999995184, 97.828751894, 3...   \n6   [167.309299019, 432.430836621, 102.413576528, ...   \n7   [172.232218402, 445.012891038, 96.9212277197, ...   \n8   [168.922430841, 456.224824263, 99.3731139475, ...   \n9   [173.080954589, 455.142128265, 99.3718516039, ...   \n10  [174.392922205, 453.678194571, 110.742150172, ...   \n11  [171.91719962, 445.005475713, 125.77505806, 37...   \n12  [172.756830403, 465.680300825, 125.441526826, ...   \n13  [173.233202023, 465.146658579, 127.769112103, ...   \n14  [172.483121723, 457.50323549, 116.16554376, 41...   \n15  [168.585265826, 468.855202226, 101.917386258, ...   \n16  [173.495632292, 441.241610117, 101.444815165, ...   \n17  [173.088137822, 447.430813852, 102.553795567, ...   \n18  [169.169008339, 442.024590638, 105.343394188, ...   \n19  [170.672312138, 456.445644825, 100.264320678, ...   \n\n                                        rawPrediction  \\\n0   [192.920317719, 2.17812443556, 1.48807517817, ...   \n1   [193.170855841, 2.07199010604, 1.45443613724, ...   \n2   [193.138726024, 2.10371860055, 1.45219024426, ...   \n3   [193.202333748, 2.04788524801, 1.45026596033, ...   \n4   [193.252446756, 2.01134624305, 1.45205570433, ...   \n5   [193.131656233, 2.10924251695, 1.44615753592, ...   \n6   [193.433051742, 1.84950744277, 1.66591452807, ...   \n7   [193.239940211, 2.04908741471, 1.43798984079, ...   \n8   [193.813485203, 1.91040969883, 1.41786984539, ...   \n9   [192.152305076, 1.75164522228, 1.18087858586, ...   \n10  [176.08378674, 2.64268349978, 0.927003759281, ...   \n11  [188.922585464, 2.01307949137, 1.15892750152, ...   \n12  [191.378177315, 1.40488870541, 1.12290698306, ...   \n13  [170.111819447, 1.54053837979, 1.38575212122, ...   \n14  [158.146908973, 1.51878103059, 0.998521094924,...   \n15  [193.083262967, 2.03994518033, 1.46656707324, ...   \n16  [192.906432613, 2.14932411155, 1.51209029544, ...   \n17  [192.997868523, 2.10251626934, 1.55518499624, ...   \n18  [192.981040329, 2.25521242966, 1.41569882798, ...   \n19  [193.149061708, 2.03540034324, 1.47346569729, ...   \n\n                                          probability  prediction  \n0   [0.964601588597, 0.0108906221778, 0.0074403758...         0.0  \n1   [0.965854279206, 0.0103599505302, 0.0072721806...         0.0  \n2   [0.965693630118, 0.0105185930027, 0.0072609512...         0.0  \n3   [0.96601166874, 0.01023942624, 0.0072513298016...         0.0  \n4   [0.966262233781, 0.0100567312153, 0.0072602785...         0.0  \n5   [0.965658281164, 0.0105462125848, 0.0072307876...         0.0  \n6   [0.967165258708, 0.00924753721384, 0.008329572...         0.0  \n7   [0.966199701055, 0.0102454370735, 0.0071899492...         0.0  \n8   [0.969067426016, 0.00955204849413, 0.007089349...         0.0  \n9   [0.960761525379, 0.0087582261114, 0.0059043929...         0.0  \n10  [0.8804189337, 0.0132134174989, 0.004635018796...         0.0  \n11  [0.944612927322, 0.0100653974568, 0.0057946375...         0.0  \n12  [0.956890886575, 0.00702444352707, 0.005614534...         0.0  \n13  [0.850559097233, 0.00770269189894, 0.006928760...         0.0  \n14  [0.790734544863, 0.00759390515296, 0.004992605...         0.0  \n15  [0.965416314833, 0.0101997259017, 0.0073328353...         0.0  \n16  [0.964532163066, 0.0107466205577, 0.0075604514...         0.0  \n17  [0.964989342613, 0.0105125813467, 0.0077759249...         0.0  \n18  [0.964905201646, 0.0112760621483, 0.0070784941...         0.0  \n19  [0.96574530854, 0.0101770017162, 0.00736732848...         0.0  \n</div>"
      ]
     },
     "metadata": {},
     "output_type": "execute_result"
    }
   ],
   "source": [
    "predictions.toPandas().head(20)"
   ]
  },
  {
   "cell_type": "code",
   "execution_count": 20,
   "metadata": {},
   "outputs": [
    {
     "data": {
      "text/html": [
       "<style scoped>\n  .ansiout {\n    display: block;\n    unicode-bidi: embed;\n    white-space: pre-wrap;\n    word-wrap: break-word;\n    word-break: break-all;\n    font-family: \"Source Code Pro\", \"Menlo\", monospace;;\n    font-size: 13px;\n    color: #555;\n    margin-left: 4px;\n    line-height: 19px;\n  }\n</style>\n<div class=\"ansiout\">DataFrame[summary: string, machineID: string, label_e: string, indexedLabel: string, prediction: string]\n</div>"
      ]
     },
     "metadata": {},
     "output_type": "execute_result"
    }
   ],
   "source": [
    "print(predictions.summary())"
   ]
  },
  {
   "cell_type": "code",
   "execution_count": 21,
   "metadata": {},
   "outputs": [
    {
     "data": {
      "text/html": [
       "<style scoped>\n  .ansiout {\n    display: block;\n    unicode-bidi: embed;\n    white-space: pre-wrap;\n    word-wrap: break-word;\n    word-break: break-all;\n    font-family: \"Source Code Pro\", \"Menlo\", monospace;;\n    font-size: 13px;\n    color: #555;\n    margin-left: 4px;\n    line-height: 19px;\n  }\n</style>\n<div class=\"ansiout\">== Physical Plan ==\n*(1) Project [machineID#39911L, dt_truncated#39912, label_e#39950, features#40037, indexedLabel#40140, indexedFeatures#40147, rawPrediction#40154, UDF(rawPrediction#40154) AS probability#40162, UDF(rawPrediction#40154) AS prediction#40171]\n+- *(1) Project [machineID#39911L, dt_truncated#39912, label_e#39950, features#40037, indexedLabel#40140, indexedFeatures#40147, UDF(indexedFeatures#40147) AS rawPrediction#40154]\n   +- *(1) Project [machineID#39911L, dt_truncated#39912, label_e#39950, features#40037, indexedLabel#40140, UDF(features#40037) AS indexedFeatures#40147]\n      +- *(1) Project [machineID#39911L, dt_truncated#39912, label_e#39950, features#40037, UDF(cast(label_e#39950 as string)) AS indexedLabel#40140]\n         +- *(1) Project [machineID#39911L, dt_truncated#39912, volt_rollingmean_12#39913, rotate_rollingmean_12#39914, pressure_rollingmean_12#39915, vibration_rollingmean_12#39916, volt_rollingmean_24#39917, rotate_rollingmean_24#39918, pressure_rollingmean_24#39919, vibration_rollingmean_24#39920, volt_rollingmean_36#39921, vibration_rollingmean_36#39922, rotate_rollingmean_36#39923, pressure_rollingmean_36#39924, volt_rollingstd_12#39925, rotate_rollingstd_12#39926, pressure_rollingstd_12#39927, vibration_rollingstd_12#39928, volt_rollingstd_24#39929, rotate_rollingstd_24#39930, pressure_rollingstd_24#39931, vibration_rollingstd_24#39932, volt_rollingstd_36#39933, rotate_rollingstd_36#39934, ... 17 more fields]\n            +- *(1) FileScan parquet default.scoring_input[machineID#39911L,dt_truncated#39912,volt_rollingmean_12#39913,rotate_rollingmean_12#39914,pressure_rollingmean_12#39915,vibration_rollingmean_12#39916,volt_rollingmean_24#39917,rotate_rollingmean_24#39918,pressure_rollingmean_24#39919,vibration_rollingmean_24#39920,volt_rollingmean_36#39921,vibration_rollingmean_36#39922,rotate_rollingmean_36#39923,pressure_rollingmean_36#39924,volt_rollingstd_12#39925,rotate_rollingstd_12#39926,pressure_rollingstd_12#39927,vibration_rollingstd_12#39928,volt_rollingstd_24#39929,rotate_rollingstd_24#39930,pressure_rollingstd_24#39931,vibration_rollingstd_24#39932,volt_rollingstd_36#39933,rotate_rollingstd_36#39934,... 16 more fields] Batched: true, Format: Parquet, Location: InMemoryFileIndex[dbfs:/user/hive/warehouse/scoring_input], PartitionFilters: [], PushedFilters: [], ReadSchema: struct&lt;machineID:bigint,dt_truncated:timestamp,volt_rollingmean_12:double,rotate_rollingmean_12:d...\n</div>"
      ]
     },
     "metadata": {},
     "output_type": "execute_result"
    }
   ],
   "source": [
    "predictions.explain()"
   ]
  },
  {
   "cell_type": "code",
   "execution_count": 22,
   "metadata": {},
   "outputs": [
    {
     "data": {
      "text/html": [
       "<style scoped>\n  .ansiout {\n    display: block;\n    unicode-bidi: embed;\n    white-space: pre-wrap;\n    word-wrap: break-word;\n    word-break: break-all;\n    font-family: \"Source Code Pro\", \"Menlo\", monospace;;\n    font-size: 13px;\n    color: #555;\n    margin-left: 4px;\n    line-height: 19px;\n  }\n</style>\n<div class=\"ansiout\"></div>"
      ]
     },
     "metadata": {},
     "output_type": "execute_result"
    }
   ],
   "source": [
    "predictions.write.mode('overwrite').saveAsTable(dbutils.widgets.get(\"RESULTS_DATA\"))"
   ]
  },
  {
   "cell_type": "code",
   "execution_count": 23,
   "metadata": {},
   "outputs": [
    {
     "data": {
      "text/html": [
       "<style scoped>\n  .ansiout {\n    display: block;\n    unicode-bidi: embed;\n    white-space: pre-wrap;\n    word-wrap: break-word;\n    word-break: break-all;\n    font-family: \"Source Code Pro\", \"Menlo\", monospace;;\n    font-size: 13px;\n    color: #555;\n    margin-left: 4px;\n    line-height: 19px;\n  }\n</style>\n<div class=\"ansiout\">Full run took 9.01 minutes\n</div>"
      ]
     },
     "metadata": {},
     "output_type": "execute_result"
    }
   ],
   "source": [
    "# Time the notebook execution. \n",
    "# This will only make sense if you \"Run All\" cells\n",
    "toc = time.time()\n",
    "print(\"Full run took %.2f minutes\" % ((toc - tic)/60))"
   ]
  },
  {
   "cell_type": "code",
   "execution_count": 24,
   "metadata": {},
   "outputs": [
    {
     "data": {
      "text/html": [
       "<style scoped>\n  .ansiout {\n    display: block;\n    unicode-bidi: embed;\n    white-space: pre-wrap;\n    word-wrap: break-word;\n    word-break: break-all;\n    font-family: \"Source Code Pro\", \"Menlo\", monospace;;\n    font-size: 13px;\n    color: #555;\n    margin-left: 4px;\n    line-height: 19px;\n  }\n</style>\n<div class=\"ansiout\">ls: cannot access &apos;/dbfs/FileStore/models&apos;: No such file or directory\n</div>"
      ]
     },
     "metadata": {},
     "output_type": "execute_result"
    }
   ],
   "source": [
    "%sh \n",
    "#mkdir /dbfs/FileStore/models\n",
    "ls -l /dbfs/FileStore/models"
   ]
  },
  {
   "cell_type": "markdown",
   "metadata": {},
   "source": [
    "## Conclusion\n\nIn the next notebook `Code\\4_operationalization.ipynb` Jupyter notebook we will create the functions needed to operationalize and deploy any model to get realtime predictions."
   ]
  }
 ],
 "metadata": {
  "kernelspec": {
   "display_name": "PredictiveMaintenance dlvmjme",
   "language": "python",
   "name": "predictivemaintenance_dlvmjme"
  },
  "language_info": {
   "mimetype": "text/x-python",
   "name": "python",
   "pygments_lexer": "ipython3",
   "codemirror_mode": {
    "name": "ipython",
    "version": 3
   },
   "version": "3.5.2",
   "nbconvert_exporter": "python",
   "file_extension": ".py"
  },
  "name": "4_model_scoring",
  "notebookId": 1.688287220131078E15
 },
 "nbformat": 4,
 "nbformat_minor": 0
}
